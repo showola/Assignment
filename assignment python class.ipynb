{
 "cells": [
  {
   "cell_type": "markdown",
   "id": "cd9d93f5",
   "metadata": {},
   "source": [
    "1) Write a python statement unpack this my_list = [1, 2, 3, 4, 5]\n",
    "2) England = [\"Derby\", \"Luton\", \"Hull\", \"London\", \"Oxford\", \"Chester\", \"Liverpool\", \"Cardiff\",\n",
    "\"Manchester\", \"Bradford\"]\n",
    "Using slicing, get \"Chester\" and \"Cardiff\"\n",
    "3) # Using slicing with a step of 3 to get \"Chester\" and \"Cardiff\"\n",
    "England = [\"Derby\", \"Luton\", \"Hull\", \"London\", \"Oxford\", \"Chester\", \"Liverpool\", \"Cardiff\",\n",
    "\"Manchester\", \"Bradford\"]\n",
    "4) write a Python function using if, elif and else to know if x = 10\n",
    "5) Using a for loop to iterate over the list and print each number\n",
    "[1, 2, 3, 4, 5]\n",
    "6) Using a for loop to calculate the sum of elements in the list\n",
    "N:B When you are through, kindly upload to your github account and also add aread me\n",
    "file to it."
   ]
  },
  {
   "cell_type": "markdown",
   "id": "ab8967e9",
   "metadata": {},
   "source": [
    "1) Write a python statement unpack this my_list = [1, 2, 3, 4, 5]"
   ]
  },
  {
   "cell_type": "code",
   "execution_count": 3,
   "id": "3ee253f3",
   "metadata": {},
   "outputs": [],
   "source": [
    "my_list = [1,2,3,4,5]\n",
    "a,b,c,d,e = [1,2,3,4,5]"
   ]
  },
  {
   "cell_type": "code",
   "execution_count": 4,
   "id": "0a69e1c9",
   "metadata": {},
   "outputs": [
    {
     "data": {
      "text/plain": [
       "1"
      ]
     },
     "execution_count": 4,
     "metadata": {},
     "output_type": "execute_result"
    }
   ],
   "source": [
    "a"
   ]
  },
  {
   "cell_type": "code",
   "execution_count": 6,
   "id": "0f5ecd95",
   "metadata": {},
   "outputs": [
    {
     "data": {
      "text/plain": [
       "2"
      ]
     },
     "execution_count": 6,
     "metadata": {},
     "output_type": "execute_result"
    }
   ],
   "source": [
    "b"
   ]
  },
  {
   "cell_type": "code",
   "execution_count": 7,
   "id": "b809ed4e",
   "metadata": {},
   "outputs": [
    {
     "data": {
      "text/plain": [
       "3"
      ]
     },
     "execution_count": 7,
     "metadata": {},
     "output_type": "execute_result"
    }
   ],
   "source": [
    "c"
   ]
  },
  {
   "cell_type": "code",
   "execution_count": 9,
   "id": "b7bddbd6",
   "metadata": {},
   "outputs": [
    {
     "data": {
      "text/plain": [
       "4"
      ]
     },
     "execution_count": 9,
     "metadata": {},
     "output_type": "execute_result"
    }
   ],
   "source": [
    "d\n"
   ]
  },
  {
   "cell_type": "code",
   "execution_count": 10,
   "id": "472c76d1",
   "metadata": {},
   "outputs": [
    {
     "data": {
      "text/plain": [
       "5"
      ]
     },
     "execution_count": 10,
     "metadata": {},
     "output_type": "execute_result"
    }
   ],
   "source": [
    "e"
   ]
  },
  {
   "cell_type": "markdown",
   "id": "2f74fc3c",
   "metadata": {},
   "source": [
    "#2) England = [\"Derby\", \"Luton\", \"Hull\", \"London\", \"Oxford\", \"Chester\", \"Liverpool\", \"Cardiff\",\n",
    "\"Manchester\", \"Bradford\"]\n",
    "Using slicing, get \"Chester\" and \"Cardiff\""
   ]
  },
  {
   "cell_type": "code",
   "execution_count": 65,
   "id": "de50c17e",
   "metadata": {},
   "outputs": [],
   "source": [
    "England = [\"Derby\", \"Luton\", \"Hull\", \"London\", \"Oxford\", \"Chester\", \"Liverpool\", \"Cardiff\",\n",
    "\"Manchester\", \"Bradford\"]\n",
    "Chester_Cardiff = England[5:7]"
   ]
  },
  {
   "cell_type": "code",
   "execution_count": 66,
   "id": "224bff5f",
   "metadata": {},
   "outputs": [
    {
     "name": "stdout",
     "output_type": "stream",
     "text": [
      "['Chester', 'Liverpool']\n"
     ]
    }
   ],
   "source": [
    "print (Chester_Cardiff)"
   ]
  },
  {
   "cell_type": "markdown",
   "id": "cc7e453f",
   "metadata": {},
   "source": [
    " #3)  Using slicing with a step of 3 to get \"Chester\" and \"Cardiff\"\n",
    "England = [\"Derby\", \"Luton\", \"Hull\", \"London\", \"Oxford\", \"Chester\", \"Liverpool\", \"Cardiff\",\n",
    "\"Manchester\", \"Bradford\"]"
   ]
  },
  {
   "cell_type": "code",
   "execution_count": 42,
   "id": "08511808",
   "metadata": {},
   "outputs": [],
   "source": [
    "England = [\"Derby\", \"Luton\", \"Hull\", \"London\", \"Oxford\", \"Chester\", \"Liverpool\", \"Cardiff\",\n",
    "\"Manchester\", \"Bradford\"]"
   ]
  },
  {
   "cell_type": "code",
   "execution_count": 60,
   "id": "7cbcb61f",
   "metadata": {},
   "outputs": [
    {
     "data": {
      "text/plain": [
       "['Chester', 'Manchester']"
      ]
     },
     "execution_count": 60,
     "metadata": {},
     "output_type": "execute_result"
    }
   ],
   "source": [
    "England[5:9:3]"
   ]
  },
  {
   "cell_type": "markdown",
   "id": "3d11bf9a",
   "metadata": {},
   "source": [
    "4) write a Python function using if, elif and else to know if x = 10"
   ]
  },
  {
   "cell_type": "code",
   "execution_count": 55,
   "id": "c3943680",
   "metadata": {},
   "outputs": [],
   "source": [
    "x = 10"
   ]
  },
  {
   "cell_type": "code",
   "execution_count": 56,
   "id": "978d8360",
   "metadata": {
    "scrolled": true
   },
   "outputs": [
    {
     "name": "stdout",
     "output_type": "stream",
     "text": [
      "Good\n"
     ]
    }
   ],
   "source": [
    "if x == 10:\n",
    "    print(\"Good\")\n",
    "elif x < 10:\n",
    "    print(\"Bad\")\n",
    "else:\n",
    "    print(\"V.Good\")"
   ]
  },
  {
   "cell_type": "markdown",
   "id": "cda60939",
   "metadata": {},
   "source": [
    ">>> spam = input()\n",
    "101\n",
    ">>> spam\n",
    "'101'"
   ]
  },
  {
   "cell_type": "code",
   "execution_count": 58,
   "id": "c148efde",
   "metadata": {},
   "outputs": [],
   "source": [
    "spam = 101"
   ]
  },
  {
   "cell_type": "code",
   "execution_count": null,
   "id": "789dd140",
   "metadata": {},
   "outputs": [],
   "source": []
  },
  {
   "cell_type": "code",
   "execution_count": null,
   "id": "70886b16",
   "metadata": {},
   "outputs": [],
   "source": []
  },
  {
   "cell_type": "code",
   "execution_count": null,
   "id": "9507251e",
   "metadata": {},
   "outputs": [],
   "source": []
  },
  {
   "cell_type": "code",
   "execution_count": null,
   "id": "73663526",
   "metadata": {},
   "outputs": [],
   "source": []
  },
  {
   "cell_type": "code",
   "execution_count": null,
   "id": "189f0d3e",
   "metadata": {},
   "outputs": [],
   "source": []
  },
  {
   "cell_type": "code",
   "execution_count": null,
   "id": "21f4aac6",
   "metadata": {},
   "outputs": [],
   "source": []
  }
 ],
 "metadata": {
  "kernelspec": {
   "display_name": "Python 3 (ipykernel)",
   "language": "python",
   "name": "python3"
  },
  "language_info": {
   "codemirror_mode": {
    "name": "ipython",
    "version": 3
   },
   "file_extension": ".py",
   "mimetype": "text/x-python",
   "name": "python",
   "nbconvert_exporter": "python",
   "pygments_lexer": "ipython3",
   "version": "3.10.9"
  }
 },
 "nbformat": 4,
 "nbformat_minor": 5
}
